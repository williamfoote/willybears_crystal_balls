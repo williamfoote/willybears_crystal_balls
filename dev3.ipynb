{
 "cells": [
  {
   "cell_type": "code",
   "execution_count": 18,
   "metadata": {},
   "outputs": [],
   "source": [
    "import sleeper_wrapper\n",
    "import pandas as pd"
   ]
  },
  {
   "cell_type": "code",
   "execution_count": 36,
   "metadata": {},
   "outputs": [],
   "source": [
    "players = sleeper_wrapper.Players()\n",
    "player_ids = pd.read_csv('player_ids.csv')\n",
    "player_ids['sleeper_id'] = player_ids['sleeper_id'].astype('str')"
   ]
  },
  {
   "cell_type": "code",
   "execution_count": 7,
   "metadata": {},
   "outputs": [],
   "source": [
    "# gets all NFL players in the Sleeper system\n",
    "all_players = players.get_all_players()"
   ]
  },
  {
   "cell_type": "code",
   "execution_count": 67,
   "metadata": {},
   "outputs": [],
   "source": [
    "players_df = pd.DataFrame.from_dict(all_players, orient='index')"
   ]
  },
  {
   "cell_type": "code",
   "execution_count": 85,
   "metadata": {},
   "outputs": [
    {
     "data": {
      "text/plain": [
       "Index(['search_rank', 'college', 'weight', 'espn_id', 'team', 'sportradar_id',\n",
       "       'injury_status', 'injury_start_date', 'player_id', 'position',\n",
       "       'birth_state', 'rotowire_id', 'fantasy_positions', 'swish_id',\n",
       "       'metadata', 'number', 'last_name', 'injury_notes', 'hashtag',\n",
       "       'full_name', 'injury_body_part', 'birth_city', 'practice_participation',\n",
       "       'height', 'birth_country', 'stats_id', 'gsis_id', 'pandascore_id',\n",
       "       'age', 'status', 'high_school', 'search_full_name', 'rotoworld_id',\n",
       "       'news_updated', 'search_last_name', 'birth_date', 'first_name',\n",
       "       'active', 'fantasy_data_id', 'search_first_name', 'oddsjam_id',\n",
       "       'practice_description', 'depth_chart_order', 'years_exp', 'yahoo_id',\n",
       "       'sport', 'depth_chart_position'],\n",
       "      dtype='object')"
      ]
     },
     "execution_count": 85,
     "metadata": {},
     "output_type": "execute_result"
    }
   ],
   "source": [
    "players_df.columns"
   ]
  },
  {
   "cell_type": "code",
   "execution_count": 88,
   "metadata": {},
   "outputs": [
    {
     "data": {
      "text/html": [
       "<div>\n",
       "<style scoped>\n",
       "    .dataframe tbody tr th:only-of-type {\n",
       "        vertical-align: middle;\n",
       "    }\n",
       "\n",
       "    .dataframe tbody tr th {\n",
       "        vertical-align: top;\n",
       "    }\n",
       "\n",
       "    .dataframe thead th {\n",
       "        text-align: right;\n",
       "    }\n",
       "</style>\n",
       "<table border=\"1\" class=\"dataframe\">\n",
       "  <thead>\n",
       "    <tr style=\"text-align: right;\">\n",
       "      <th></th>\n",
       "      <th>full_name</th>\n",
       "      <th>player_id</th>\n",
       "      <th>yahoo_id</th>\n",
       "    </tr>\n",
       "  </thead>\n",
       "  <tbody>\n",
       "    <tr>\n",
       "      <th>11199</th>\n",
       "      <td>Emari Demercado</td>\n",
       "      <td>11199</td>\n",
       "      <td>NaN</td>\n",
       "    </tr>\n",
       "  </tbody>\n",
       "</table>\n",
       "</div>"
      ],
      "text/plain": [
       "             full_name player_id  yahoo_id\n",
       "11199  Emari Demercado     11199       NaN"
      ]
     },
     "execution_count": 88,
     "metadata": {},
     "output_type": "execute_result"
    }
   ],
   "source": [
    "players_df[players_df['first_name'] == 'Emari'][['full_name', 'player_id', 'yahoo_id']]"
   ]
  },
  {
   "cell_type": "code",
   "execution_count": 11,
   "metadata": {},
   "outputs": [],
   "source": [
    "from sleeper_wrapper import Stats\n",
    "\n",
    "stats = Stats()\n",
    "\n",
    "# pulls all of the stats for week 1 of the 2023 regular season\n",
    "week_stats = stats.get_week_stats(\"regular\", 2023, 14)\n",
    "\n",
    "# retrieves stats for the Detroit defense for the provided week\n",
    "score = stats.get_player_week_score(week_stats, \"DET\")"
   ]
  },
  {
   "cell_type": "code",
   "execution_count": 52,
   "metadata": {},
   "outputs": [],
   "source": [
    "import pandas as pd\n",
    "\n",
    "def get_projections_for_weeks(start_week, end_week, season_type, year):\n",
    "    # Initialize an empty list to store DataFrames\n",
    "    dfs = []\n",
    "\n",
    "    # Loop through each week from start_week to end_week\n",
    "    for week in range(start_week, end_week + 1):\n",
    "        # Retrieve the projections for the given week\n",
    "        week_projections = stats.get_week_projections(season_type, year, week)\n",
    "\n",
    "        # Convert the projections to a DataFrame\n",
    "        df_week = pd.DataFrame.from_dict(week_projections, orient='index')\n",
    "\n",
    "        df_week.index.name = 'player_id'\n",
    "        df_week.reset_index(inplace=True)\n",
    "\n",
    "        # Add a column to indicate the week\n",
    "        df_week['Week'] = week\n",
    "\n",
    "        # Append the DataFrame to the list\n",
    "        dfs.append(df_week)\n",
    "\n",
    "    # Combine all DataFrames into one\n",
    "    combined_df = pd.concat(dfs, axis=0)\n",
    "\n",
    "    # Reset the index of the combined DataFrame\n",
    "    combined_df.reset_index(drop=True, inplace=True)\n",
    "\n",
    "    return combined_df\n",
    "\n",
    "# Example usage\n",
    "season_type = 'regular'\n",
    "year = 2023\n",
    "start_week = 12\n",
    "end_week = 14\n",
    "\n",
    "combined_projections = get_projections_for_weeks(start_week, end_week, season_type, year)"
   ]
  },
  {
   "cell_type": "code",
   "execution_count": null,
   "metadata": {},
   "outputs": [],
   "source": [
    "combined_projections = get_projections_for_weeks(start_week, season_type, year)"
   ]
  },
  {
   "cell_type": "code",
   "execution_count": 54,
   "metadata": {},
   "outputs": [],
   "source": [
    "merged = combined_projections.merge(player_ids[['sleeper_id', 'yahoo_id', 'yahoo_name']], left_on = 'player_id', right_on='sleeper_id', how = 'inner')"
   ]
  },
  {
   "cell_type": "code",
   "execution_count": 56,
   "metadata": {},
   "outputs": [],
   "source": [
    "merged.to_csv('merged.csv', index=False)"
   ]
  }
 ],
 "metadata": {
  "kernelspec": {
   "display_name": ".venv",
   "language": "python",
   "name": "python3"
  },
  "language_info": {
   "codemirror_mode": {
    "name": "ipython",
    "version": 3
   },
   "file_extension": ".py",
   "mimetype": "text/x-python",
   "name": "python",
   "nbconvert_exporter": "python",
   "pygments_lexer": "ipython3",
   "version": "3.10.9"
  }
 },
 "nbformat": 4,
 "nbformat_minor": 2
}
