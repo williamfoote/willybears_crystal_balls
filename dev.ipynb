{
 "cells": [
  {
   "cell_type": "code",
   "execution_count": 121,
   "metadata": {},
   "outputs": [],
   "source": [
    "from requests_oauthlib import OAuth1Session\n",
    "import webbrowser\n",
    "\n",
    "from requests import get, post\n",
    "import json\n",
    "import base64"
   ]
  },
  {
   "cell_type": "code",
   "execution_count": 119,
   "metadata": {},
   "outputs": [],
   "source": [
    "from requests_oauthlib import OAuth2Session\n",
    "\n",
    "client_id = 'dj0yJmk9SzduRTJBQ3dvVFRFJmQ9WVdrOVIwdENkRGRpZEdZbWNHbzlNQT09JnM9Y29uc3VtZXJzZWNyZXQmc3Y9MCZ4PWFm'\n",
    "client_secret = 'ef4fcfa6faa87e36e57a7cc64ec19ee5dcf036c4'\n",
    "redirect_uri = 'https://localhost:3000/callback'\n",
    "\n",
    "yahoo = OAuth2Session(client_id, redirect_uri=redirect_uri)\n",
    "authorization_url, state = yahoo.authorization_url('https://api.login.yahoo.com/oauth2/request_auth')\n"
   ]
  },
  {
   "cell_type": "code",
   "execution_count": 120,
   "metadata": {},
   "outputs": [
    {
     "ename": "MismatchingStateError",
     "evalue": "(mismatching_state) CSRF Warning! State not equal in request and response.",
     "output_type": "error",
     "traceback": [
      "\u001b[0;31m---------------------------------------------------------------------------\u001b[0m",
      "\u001b[0;31mMismatchingStateError\u001b[0m                     Traceback (most recent call last)",
      "\u001b[1;32m/Users/williamfoote/Documents/GitHub/willybears_crystal_balls/dev.ipynb Cell 3\u001b[0m line \u001b[0;36m1\n\u001b[0;32m----> <a href='vscode-notebook-cell:/Users/williamfoote/Documents/GitHub/willybears_crystal_balls/dev.ipynb#X36sZmlsZQ%3D%3D?line=0'>1</a>\u001b[0m access_token \u001b[39m=\u001b[39m yahoo\u001b[39m.\u001b[39;49mfetch_token(\u001b[39m'\u001b[39;49m\u001b[39mhttps://api.login.yahoo.com/oauth2/get_token\u001b[39;49m\u001b[39m'\u001b[39;49m,\n\u001b[1;32m      <a href='vscode-notebook-cell:/Users/williamfoote/Documents/GitHub/willybears_crystal_balls/dev.ipynb#X36sZmlsZQ%3D%3D?line=1'>2</a>\u001b[0m                                  authorization_response\u001b[39m=\u001b[39;49mredirect_uri,\n\u001b[1;32m      <a href='vscode-notebook-cell:/Users/williamfoote/Documents/GitHub/willybears_crystal_balls/dev.ipynb#X36sZmlsZQ%3D%3D?line=2'>3</a>\u001b[0m                                  client_secret\u001b[39m=\u001b[39;49mclient_secret)\n",
      "File \u001b[0;32m~/Documents/GitHub/willybears_crystal_balls/.venv/lib/python3.10/site-packages/requests_oauthlib/oauth2_session.py:244\u001b[0m, in \u001b[0;36mOAuth2Session.fetch_token\u001b[0;34m(self, token_url, code, authorization_response, body, auth, username, password, method, force_querystring, timeout, headers, verify, proxies, include_client_id, client_secret, cert, **kwargs)\u001b[0m\n\u001b[1;32m    241\u001b[0m     \u001b[39mraise\u001b[39;00m InsecureTransportError()\n\u001b[1;32m    243\u001b[0m \u001b[39mif\u001b[39;00m \u001b[39mnot\u001b[39;00m code \u001b[39mand\u001b[39;00m authorization_response:\n\u001b[0;32m--> 244\u001b[0m     \u001b[39mself\u001b[39;49m\u001b[39m.\u001b[39;49m_client\u001b[39m.\u001b[39;49mparse_request_uri_response(\n\u001b[1;32m    245\u001b[0m         authorization_response, state\u001b[39m=\u001b[39;49m\u001b[39mself\u001b[39;49m\u001b[39m.\u001b[39;49m_state\n\u001b[1;32m    246\u001b[0m     )\n\u001b[1;32m    247\u001b[0m     code \u001b[39m=\u001b[39m \u001b[39mself\u001b[39m\u001b[39m.\u001b[39m_client\u001b[39m.\u001b[39mcode\n\u001b[1;32m    248\u001b[0m \u001b[39melif\u001b[39;00m \u001b[39mnot\u001b[39;00m code \u001b[39mand\u001b[39;00m \u001b[39misinstance\u001b[39m(\u001b[39mself\u001b[39m\u001b[39m.\u001b[39m_client, WebApplicationClient):\n",
      "File \u001b[0;32m~/Documents/GitHub/willybears_crystal_balls/.venv/lib/python3.10/site-packages/oauthlib/oauth2/rfc6749/clients/web_application.py:220\u001b[0m, in \u001b[0;36mWebApplicationClient.parse_request_uri_response\u001b[0;34m(self, uri, state)\u001b[0m\n\u001b[1;32m    176\u001b[0m \u001b[39mdef\u001b[39;00m \u001b[39mparse_request_uri_response\u001b[39m(\u001b[39mself\u001b[39m, uri, state\u001b[39m=\u001b[39m\u001b[39mNone\u001b[39;00m):\n\u001b[1;32m    177\u001b[0m \u001b[39m    \u001b[39m\u001b[39m\"\"\"Parse the URI query for code and state.\u001b[39;00m\n\u001b[1;32m    178\u001b[0m \n\u001b[1;32m    179\u001b[0m \u001b[39m    If the resource owner grants the access request, the authorization\u001b[39;00m\n\u001b[0;32m   (...)\u001b[0m\n\u001b[1;32m    218\u001b[0m \u001b[39m        oauthlib.oauth2.rfc6749.errors.MismatchingStateError\u001b[39;00m\n\u001b[1;32m    219\u001b[0m \u001b[39m    \"\"\"\u001b[39;00m\n\u001b[0;32m--> 220\u001b[0m     response \u001b[39m=\u001b[39m parse_authorization_code_response(uri, state\u001b[39m=\u001b[39;49mstate)\n\u001b[1;32m    221\u001b[0m     \u001b[39mself\u001b[39m\u001b[39m.\u001b[39mpopulate_code_attributes(response)\n\u001b[1;32m    222\u001b[0m     \u001b[39mreturn\u001b[39;00m response\n",
      "File \u001b[0;32m~/Documents/GitHub/willybears_crystal_balls/.venv/lib/python3.10/site-packages/oauthlib/oauth2/rfc6749/parameters.py:278\u001b[0m, in \u001b[0;36mparse_authorization_code_response\u001b[0;34m(uri, state)\u001b[0m\n\u001b[1;32m    275\u001b[0m params \u001b[39m=\u001b[39m \u001b[39mdict\u001b[39m(urlparse\u001b[39m.\u001b[39mparse_qsl(query))\n\u001b[1;32m    277\u001b[0m \u001b[39mif\u001b[39;00m state \u001b[39mand\u001b[39;00m params\u001b[39m.\u001b[39mget(\u001b[39m'\u001b[39m\u001b[39mstate\u001b[39m\u001b[39m'\u001b[39m, \u001b[39mNone\u001b[39;00m) \u001b[39m!=\u001b[39m state:\n\u001b[0;32m--> 278\u001b[0m     \u001b[39mraise\u001b[39;00m MismatchingStateError()\n\u001b[1;32m    280\u001b[0m \u001b[39mif\u001b[39;00m \u001b[39m'\u001b[39m\u001b[39merror\u001b[39m\u001b[39m'\u001b[39m \u001b[39min\u001b[39;00m params:\n\u001b[1;32m    281\u001b[0m     raise_from_error(params\u001b[39m.\u001b[39mget(\u001b[39m'\u001b[39m\u001b[39merror\u001b[39m\u001b[39m'\u001b[39m), params)\n",
      "\u001b[0;31mMismatchingStateError\u001b[0m: (mismatching_state) CSRF Warning! State not equal in request and response."
     ]
    }
   ],
   "source": [
    "access_token = yahoo.fetch_token('https://api.login.yahoo.com/oauth2/get_token',\n",
    "                                 authorization_response=redirect_uri,\n",
    "                                 client_secret=client_secret)\n"
   ]
  },
  {
   "cell_type": "code",
   "execution_count": 108,
   "metadata": {},
   "outputs": [],
   "source": [
    "code_url = f'oauth2/request_auth?client_id={consumer_key}&redirect_uri=oob&response_type=code&language=en-us'\n"
   ]
  },
  {
   "cell_type": "code",
   "execution_count": 109,
   "metadata": {},
   "outputs": [
    {
     "data": {
      "text/plain": [
       "True"
      ]
     },
     "execution_count": 109,
     "metadata": {},
     "output_type": "execute_result"
    }
   ],
   "source": [
    "webbrowser.open(base_url + code_url)\n",
    "\n"
   ]
  },
  {
   "cell_type": "code",
   "execution_count": 110,
   "metadata": {},
   "outputs": [],
   "source": [
    "code = '2qtdm2u'"
   ]
  },
  {
   "cell_type": "code",
   "execution_count": 111,
   "metadata": {},
   "outputs": [],
   "source": [
    "encoded = base64.b64encode((consumer_key + ':' + consumer_secret).encode(\"utf-8\"))\n",
    "headers = {\n",
    "    'Authorization': f'Basic {encoded.decode(\"utf-8\")}',\n",
    "    'Content-Type': 'application/x-www-form-urlencoded'\n",
    "}\n",
    "data = {\n",
    "    'grant_type': 'authorization_code',\n",
    "    'redirect_uri': 'oob',\n",
    "    'code': code\n",
    "}"
   ]
  },
  {
   "cell_type": "code",
   "execution_count": 112,
   "metadata": {},
   "outputs": [],
   "source": [
    "response = post(base_url + 'oauth2/get_token', headers=headers, data=data)\n"
   ]
  },
  {
   "cell_type": "code",
   "execution_count": 113,
   "metadata": {},
   "outputs": [
    {
     "data": {
      "text/plain": [
       "True"
      ]
     },
     "execution_count": 113,
     "metadata": {},
     "output_type": "execute_result"
    }
   ],
   "source": [
    "response.ok\n"
   ]
  },
  {
   "cell_type": "code",
   "execution_count": 114,
   "metadata": {},
   "outputs": [
    {
     "data": {
      "text/plain": [
       "{'access_token': 'TpMPLWiYvgdHLyU1J3Ed0_zSuD3SmNrPRqVW0jK1TdM.jvon5uEQToMIdoAvU95V.2tGikQrbIDoPslOCcNVpRGwRMcOUfEWspbUzP7rb_vnevDd_uPfayRhPV6tvnUTg1BMw__8j2srr6xQ.RZRPiz2MuoWQrOy3QFkwnmEJ71p1IpDLeiYK7rf.xDdllBJc1vEvNVGLyWXyuG0IaeUvl3hoHIGp7D2KrSq5D7r_19mKiqes_NaobjrEmaP4ZhTngVDwifnXS8_sdfi261Rv5yyC5CitDy1pqihuJHynQa_b5RkDcdlTYyvul2s4I1S2ywPg5TLzgdG.56PGDSsoSxh3t.ADmYV49lceie40NtOyDcI2VYL2vtAmNoK5zWh2ukpRSGlsci4GjBHZ5KqasIcMYUow8Ht7pLNhZ6Ww.FMJmV31Yt_MN3T9eYmr19PpmNxjbyLOL3cuDwwX_yKMDOS2VZYAQJqgODNEu7wQDGtDDu7xnKJLwFxxh.cEBcEcn00fmy_0771xvCRV5ijpjSt5s9.F2PT.5EwuWYCrabr13Xy6aqay0nzswnVKMzOlLVUOW9qg0BSs418mLcONe.RtdmSejfmaCmIRGVUJhC6.ca8nyI4JCPwftMLiBQvNLeFokC_qTtfehUvRkveCSt5SmVDpPpZ1HLYycUFO.YDio7OyyxA5kbevhWNAyt0cdOGHjBeO4NpbAMORRVBtF7DVVRM77AEca7c3_QDMdMOsofcOke7goxl3n0oBeKsrOoLnf_WrlRp2mF2r1NNHqPQtGTirVQ3JrY6TX0acLYzyhzNUswH477mPiDzeekon00DN3PX9qQqlQervzJ7jwEsj.tjMAl6InexUFTlaOfgjZzNMQ8W9Kh9DbnnXjT9a.0nfahj4Tbn7ZqKMfnqBmchhp2UjASws8HNndMaOTtDiGoki2d50L0-',\n",
       " 'refresh_token': 'APbEX2Wqnco_i0hrAKlNem.KuDJI~000~V7D7HJ6Fsr4Umr7h1_Hwkg--',\n",
       " 'expires_in': 3600,\n",
       " 'token_type': 'bearer'}"
      ]
     },
     "execution_count": 114,
     "metadata": {},
     "output_type": "execute_result"
    }
   ],
   "source": [
    "response.json()\n"
   ]
  },
  {
   "cell_type": "code",
   "execution_count": 115,
   "metadata": {},
   "outputs": [],
   "source": [
    "access_token = response.json()['access_token']\n",
    "refresh_token = response.json()['refresh_token']\n"
   ]
  },
  {
   "cell_type": "markdown",
   "metadata": {},
   "source": [
    "# To update the token if we lose access\n",
    "\n"
   ]
  },
  {
   "cell_type": "code",
   "execution_count": 88,
   "metadata": {},
   "outputs": [],
   "source": [
    "data = {\n",
    "    'grant_type': 'refresh_token',\n",
    "    'redirect_uri': 'oob',\n",
    "    'code': code,\n",
    "    'refresh_token': refresh_token\n",
    "}"
   ]
  },
  {
   "cell_type": "code",
   "execution_count": 89,
   "metadata": {},
   "outputs": [],
   "source": [
    "response = post(base_url + 'oauth2/get_token', headers=headers, data=data)\n"
   ]
  },
  {
   "cell_type": "code",
   "execution_count": 90,
   "metadata": {},
   "outputs": [
    {
     "ename": "KeyError",
     "evalue": "'access_token'",
     "output_type": "error",
     "traceback": [
      "\u001b[0;31m---------------------------------------------------------------------------\u001b[0m",
      "\u001b[0;31mKeyError\u001b[0m                                  Traceback (most recent call last)",
      "\u001b[1;32m/Users/williamfoote/Documents/GitHub/willybears_crystal_balls/dev.ipynb Cell 14\u001b[0m line \u001b[0;36m1\n\u001b[0;32m----> <a href='vscode-notebook-cell:/Users/williamfoote/Documents/GitHub/willybears_crystal_balls/dev.ipynb#X16sZmlsZQ%3D%3D?line=0'>1</a>\u001b[0m access_token \u001b[39m=\u001b[39m response\u001b[39m.\u001b[39;49mjson()[\u001b[39m'\u001b[39;49m\u001b[39maccess_token\u001b[39;49m\u001b[39m'\u001b[39;49m]\n",
      "\u001b[0;31mKeyError\u001b[0m: 'access_token'"
     ]
    }
   ],
   "source": [
    "access_token = response.json()['access_token']"
   ]
  },
  {
   "cell_type": "markdown",
   "metadata": {},
   "source": [
    "# Testing access token"
   ]
  },
  {
   "cell_type": "code",
   "execution_count": 81,
   "metadata": {},
   "outputs": [],
   "source": [
    "headers = {\n",
    "    'Authorization': f'Bearer {access_token}',\n",
    "    'Accept': 'application/json',\n",
    "    'Content-Type': 'application/json'\n",
    "}"
   ]
  },
  {
   "cell_type": "code",
   "execution_count": 82,
   "metadata": {},
   "outputs": [],
   "source": [
    "response = get('https://api.gemini.yahoo.com/v3/rest/advertiser/', headers=headers)\n"
   ]
  },
  {
   "cell_type": "code",
   "execution_count": 102,
   "metadata": {},
   "outputs": [
    {
     "data": {
      "text/plain": [
       "False"
      ]
     },
     "execution_count": 102,
     "metadata": {},
     "output_type": "execute_result"
    }
   ],
   "source": [
    "response.ok"
   ]
  },
  {
   "cell_type": "code",
   "execution_count": 84,
   "metadata": {},
   "outputs": [
    {
     "data": {
      "text/plain": [
       "[]"
      ]
     },
     "execution_count": 84,
     "metadata": {},
     "output_type": "execute_result"
    }
   ],
   "source": [
    "response.json()['response']\n"
   ]
  },
  {
   "cell_type": "markdown",
   "metadata": {},
   "source": [
    "# Now that we have access, Actual analysis"
   ]
  },
  {
   "cell_type": "code",
   "execution_count": 116,
   "metadata": {},
   "outputs": [
    {
     "name": "stdout",
     "output_type": "stream",
     "text": [
      "b'<?xml version=\"1.0\" encoding=\"UTF-8\"?>\\n<fantasy_content xml:lang=\"en-US\" yahoo:uri=\"http://fantasysports.yahooapis.com/fantasy/v2/game/nfl\" time=\"9.3159675598145ms\" copyright=\"Certain Data by Sportradar, Stats Perform and Rotowire\" refresh_rate=\"60\" xmlns:yahoo=\"http://www.yahooapis.com/v1/base.rng\" xmlns=\"http://fantasysports.yahooapis.com/fantasy/v2/base.rng\">\\n <game>\\n  <game_key>423</game_key>\\n  <game_id>423</game_id>\\n  <name>Football</name>\\n  <code>nfl</code>\\n  <type>full</type>\\n  <url>https://football.fantasysports.yahoo.com/f1</url>\\n  <season>2023</season>\\n  <is_registration_over>1</is_registration_over>\\n  <is_game_over>0</is_game_over>\\n  <is_offseason>0</is_offseason>\\n </game>\\n</fantasy_content>\\n<!-- fantasy-sports-api- -public-production-bf1-c945b96db-94hh5 Thu Nov 23 21:33:17 UTC 2023 -->\\n'\n"
     ]
    }
   ],
   "source": [
    "league_key = 658258\n",
    "response = yahoo.get('https://fantasysports.yahooapis.com/fantasy/v2/users;use_login=1/games;game_keys=nfl/teams')  # Example endpoint\n",
    "print(response.content)\n"
   ]
  },
  {
   "cell_type": "code",
   "execution_count": null,
   "metadata": {},
   "outputs": [],
   "source": [
    "response = yahoo.get('https://fantasysports.yahooapis.com/fantasy/v2/game/nfl')  # Example endpoint\n",
    "print(response.content)\n"
   ]
  }
 ],
 "metadata": {
  "kernelspec": {
   "display_name": ".venv",
   "language": "python",
   "name": "python3"
  },
  "language_info": {
   "codemirror_mode": {
    "name": "ipython",
    "version": 3
   },
   "file_extension": ".py",
   "mimetype": "text/x-python",
   "name": "python",
   "nbconvert_exporter": "python",
   "pygments_lexer": "ipython3",
   "version": "3.10.9"
  }
 },
 "nbformat": 4,
 "nbformat_minor": 2
}
